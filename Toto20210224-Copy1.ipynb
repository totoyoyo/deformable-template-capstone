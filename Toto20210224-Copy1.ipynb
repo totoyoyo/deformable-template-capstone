{
 "cells": [
  {
   "cell_type": "code",
   "execution_count": 18,
   "metadata": {},
   "outputs": [],
   "source": [
    "import numpy as np\n",
    "import scipy \n",
    "import matplotlib.pyplot as plt\n",
    "import cv2\n",
    "\n",
    "from timeit              import default_timer as timer\n",
    "from numpy.linalg        import inv\n",
    "from skimage             import img_as_float\n",
    "\n",
    "from scipy.optimize import minimize\n",
    "\n",
    "%matplotlib inline"
   ]
  },
  {
   "cell_type": "markdown",
   "metadata": {},
   "source": [
    "We'll look at $nxm$ images. We make a meshgrid of pixel coordinates. Then we make it into a long vector."
   ]
  },
  {
   "cell_type": "code",
   "execution_count": null,
   "metadata": {},
   "outputs": [],
   "source": [
    "n = 28\n",
    "m = 28\n",
    "\n",
    "rx, ry = np.arange(0,n, 1), np.arange(0,m, 1)\n",
    "gx, gy = np.meshgrid(rx, ry) \n",
    "\n",
    "# Pair up elems from gx and gy to create array of pairs \n",
    "X_2D = np.c_[gx.ravel(), gy.ravel()]"
   ]
  },
  {
   "cell_type": "markdown",
   "metadata": {},
   "source": [
    "Define the kernel matrix"
   ]
  },
  {
   "cell_type": "code",
   "execution_count": null,
   "metadata": {},
   "outputs": [],
   "source": [
    "def kernel(X1, X2, l=1, sigma_f=1.0):\n",
    "    \"\"\"\n",
    "    Isotropic squared exponential kernel.\n",
    "    Args:\n",
    "        X1: Array of m points (m x d).  We'll have d=1 or 2. For images we have d = 2.\n",
    "        X2: Array of n points (n x d).\n",
    "        l : lenght-scale, default is 1\n",
    "        sigma_f: vertical variation, default is 1\n",
    "    Returns:\n",
    "        (m x n) matrix.\n",
    "    \"\"\"\n",
    "    sqdist = np.sum(X1**2, 1).reshape(-1, 1) + np.sum(X2**2, 1) - 2 * np.dot(X1, X2.T)\n",
    "    return sigma_f**2 * np.exp(-(1/(2*l**2)) * sqdist)"
   ]
  },
  {
   "cell_type": "markdown",
   "metadata": {},
   "source": [
    "**We will first illustrate small variance**"
   ]
  },
  {
   "cell_type": "code",
   "execution_count": null,
   "metadata": {},
   "outputs": [],
   "source": [
    "l = 2\n",
    "\n",
    "#deformation\n",
    "X = np.c_[gx.ravel()+5.5, gy.ravel()-7.8] #eg shift x and y coordinates by certain fixed amount\n",
    "\n",
    "K = kernel(X,X_2D, l)\n",
    "plt.imshow(K, cmap = 'jet')\n",
    "plt.colorbar();"
   ]
  },
  {
   "cell_type": "markdown",
   "metadata": {},
   "source": [
    "# A Gaussian mixture:\n",
    "\n",
    "Take a couple of coefficients"
   ]
  },
  {
   "cell_type": "code",
   "execution_count": null,
   "metadata": {},
   "outputs": [],
   "source": [
    "a = np.zeros((n,m))\n",
    "a[6:15,6:22] = 1\n",
    "a[8:13,8:20] = 0\n",
    "a[22:24,22:24] = 4\n",
    "plt.imshow(a, cmap = 'gray');"
   ]
  },
  {
   "cell_type": "markdown",
   "metadata": {},
   "source": [
    "Make linear combination of Gaussians centred at the position of those coefficients"
   ]
  },
  {
   "cell_type": "code",
   "execution_count": null,
   "metadata": {},
   "outputs": [],
   "source": [
    "Mix = K@a.ravel()\n",
    "\n",
    "plt.imshow(Mix.reshape(a.shape[0],a.shape[1]), cmap = 'gray');"
   ]
  },
  {
   "cell_type": "markdown",
   "metadata": {},
   "source": [
    "... and get the coefficients back:"
   ]
  },
  {
   "cell_type": "code",
   "execution_count": null,
   "metadata": {},
   "outputs": [],
   "source": [
    "coeff = np.linalg.pinv(K)@Mix\n",
    "\n",
    "plt.imshow(coeff.reshape(n,m), cmap = 'gray');"
   ]
  },
  {
   "cell_type": "markdown",
   "metadata": {},
   "source": [
    "## Now getting the best Gaussian mixture approximation of an image\n",
    "\n",
    "Here's the image"
   ]
  },
  {
   "cell_type": "code",
   "execution_count": null,
   "metadata": {},
   "outputs": [],
   "source": [
    "img_raw = cv2.imread('img_6.jpg',0)\n",
    "img = img_as_float(img_raw) \n",
    "#img = denoise_tv_chambolle(img,weight=0.1) # TV denoise\n",
    "plt.imshow(img, cmap = 'jet')\n",
    "plt.title(\"true image\")\n",
    "plt.colorbar();"
   ]
  },
  {
   "cell_type": "markdown",
   "metadata": {},
   "source": [
    "Here are the least squares solution coefficients"
   ]
  },
  {
   "cell_type": "code",
   "execution_count": null,
   "metadata": {},
   "outputs": [],
   "source": [
    "coeff = np.linalg.pinv(K)@img.ravel()\n",
    "\n",
    "plt.imshow(coeff.reshape(n,m), cmap = 'jet')\n",
    "plt.title(\"Coefficients\")\n",
    "plt.colorbar();"
   ]
  },
  {
   "cell_type": "markdown",
   "metadata": {},
   "source": [
    "Here is the approximation:"
   ]
  },
  {
   "cell_type": "code",
   "execution_count": null,
   "metadata": {},
   "outputs": [],
   "source": [
    "Approx = K@coeff\n",
    "\n",
    "plt.imshow(Approx.reshape(a.shape[0],a.shape[1]), cmap = 'jet')\n",
    "plt.title(\"Gaussian mixture approximation\")\n",
    "plt.colorbar();"
   ]
  },
  {
   "cell_type": "markdown",
   "metadata": {},
   "source": [
    "Difference between true image and Gaussian mixture approximation:"
   ]
  },
  {
   "cell_type": "code",
   "execution_count": null,
   "metadata": {},
   "outputs": [],
   "source": [
    "plt.imshow(img - Approx.reshape(a.shape[0],a.shape[1]), cmap = 'jet')\n",
    "plt.title(\"Difference between truth and approximation\")\n",
    "plt.colorbar();"
   ]
  },
  {
   "cell_type": "markdown",
   "metadata": {},
   "source": [
    "## Now here is for larger variance:"
   ]
  },
  {
   "cell_type": "code",
   "execution_count": null,
   "metadata": {},
   "outputs": [],
   "source": [
    "l = 6.5\n",
    "K = kernel(X,X_2D, l)\n",
    "plt.imshow(K, cmap = 'jet')\n",
    "plt.colorbar();"
   ]
  },
  {
   "cell_type": "code",
   "execution_count": null,
   "metadata": {},
   "outputs": [],
   "source": [
    "coeff = np.linalg.pinv(K)@img.ravel()\n",
    "\n",
    "plt.imshow(coeff.reshape(n,m), cmap = 'jet')\n",
    "plt.title(\"Coefficients\")\n",
    "plt.colorbar();"
   ]
  },
  {
   "cell_type": "code",
   "execution_count": null,
   "metadata": {},
   "outputs": [],
   "source": [
    "Approx = K@coeff\n",
    "\n",
    "plt.imshow(Approx.reshape(a.shape[0],a.shape[1]), cmap = 'jet')\n",
    "plt.title(\"Gaussian mixture approximation\")\n",
    "plt.colorbar();"
   ]
  },
  {
   "cell_type": "code",
   "execution_count": null,
   "metadata": {},
   "outputs": [],
   "source": [
    "plt.imshow(img - Approx.reshape(a.shape[0],a.shape[1]), cmap = 'jet')\n",
    "plt.title(\"Difference between truth and approximation\")\n",
    "plt.colorbar();"
   ]
  },
  {
   "cell_type": "markdown",
   "metadata": {},
   "source": [
    "# Implementation of the $\\alpha$-equation for kernels including deformation."
   ]
  },
  {
   "cell_type": "code",
   "execution_count": 2,
   "metadata": {},
   "outputs": [],
   "source": [
    "n = 28\n",
    "m = 28\n",
    "\n",
    "rx, ry = np.arange(0,n, 1), np.arange(0,m, 1)\n",
    "gx, gy = np.meshgrid(rx, ry) \n",
    "# Pair up elems from gx and gy to create array of pairs \n",
    "X_2D = np.c_[gx.ravel(), gy.ravel()]"
   ]
  },
  {
   "cell_type": "code",
   "execution_count": 3,
   "metadata": {},
   "outputs": [],
   "source": [
    "def kernel(X1, X2, l=1, sigma_f=1.0):\n",
    "    \"\"\"\n",
    "    Isotropic squared exponential kernel.\n",
    "    Args:\n",
    "        X1: Array of m points (m x d).  We'll have d=1 or 2. For images we have d = 2.\n",
    "        X2: Array of n points (n x d).\n",
    "        l : lenght-scale, default is 1\n",
    "        sigma_f: vertical variation, default is 1\n",
    "    Returns:\n",
    "        (m x n) matrix.\n",
    "    \"\"\"\n",
    "    sqdist = np.sum(X1**2, 1).reshape(-1, 1) + np.sum(X2**2, 1) - 2 * np.dot(X1, X2.T)\n",
    "    return sigma_f**2 * np.exp(-(1/(2*l**2)) * sqdist)"
   ]
  },
  {
   "cell_type": "markdown",
   "metadata": {},
   "source": [
    "Consider the following coefficients and the corresponding template:"
   ]
  },
  {
   "cell_type": "code",
   "execution_count": 4,
   "metadata": {},
   "outputs": [
    {
     "data": {
      "image/png": "[encoded data removed]",
      "text/plain": [
       "<Figure size 432x288 with 2 Axes>"
      ]
     },
     "metadata": {
      "needs_background": "light"
     },
     "output_type": "display_data"
    }
   ],
   "source": [
    "a = np.zeros((n,m))\n",
    "a[6:15,6:22] = 1\n",
    "a[8:13,8:20] = 0\n",
    "a[22:24,22:24] = 4\n",
    "\n",
    "Mix = kernel(X_2D,X_2D,2)@a.ravel()\n",
    "\n",
    "plt.subplot(1,2,1)\n",
    "plt.imshow(a, cmap = 'gray');\n",
    "plt.title(\"coeffis\")\n",
    "plt.subplot(1,2,2)\n",
    "plt.imshow(Mix.reshape(a.shape[0],a.shape[1]), cmap = 'gray');\n",
    "plt.title(\"template\");"
   ]
  },
  {
   "cell_type": "markdown",
   "metadata": {},
   "source": [
    "Suppose y1 and y2 are two versions of the template with different (**non-integer**) shifts as deformation, say"
   ]
  },
  {
   "cell_type": "code",
   "execution_count": 5,
   "metadata": {},
   "outputs": [
    {
     "data": {
      "image/png": "[encoded data removed]",
      "text/plain": [
       "<Figure size 432x288 with 2 Axes>"
      ]
     },
     "metadata": {
      "needs_background": "light"
     },
     "output_type": "display_data"
    }
   ],
   "source": [
    "K1 = kernel(X_2D,np.c_[gx.ravel()+5.5, gy.ravel()-3.8],2)\n",
    "y1 = K1@a.ravel()\n",
    "\n",
    "K2 = kernel(X_2D,np.c_[gx.ravel()-3.5, gy.ravel()+1.2],2)\n",
    "y2 = K2@a.ravel()\n",
    "\n",
    "plt.imshow(y1.reshape(a.shape[0],a.shape[1]), cmap = 'gray');\n",
    "\n",
    "plt.subplot(1,2,1)\n",
    "plt.imshow(y1.reshape(a.shape[0],a.shape[1]), cmap = 'gray');\n",
    "plt.title(\"y1\")\n",
    "plt.subplot(1,2,2)\n",
    "plt.imshow(y2.reshape(a.shape[0],a.shape[1]), cmap = 'gray');\n",
    "plt.title(\"y2\");"
   ]
  },
  {
   "cell_type": "markdown",
   "metadata": {},
   "source": [
    "Then we can implement the $\\alpha$ equation like so (note that for an invertible matrix its inverse and pseudo-inverse coincide, but calculating the pseudo-inverse is numerically much more stable if there are many values that are almost zero, like in our case) :"
   ]
  },
  {
   "cell_type": "code",
   "execution_count": 6,
   "metadata": {},
   "outputs": [
    {
     "data": {
      "image/png": "[encoded data removed]",
      "text/plain": [
       "<Figure size 432x288 with 2 Axes>"
      ]
     },
     "metadata": {
      "needs_background": "light"
     },
     "output_type": "display_data"
    }
   ],
   "source": [
    "alpha = np.linalg.pinv( K1.T@K1 + K2.T@K2 ) @ ( K1.T@y1 + K2.T@y2 )\n",
    "\n",
    "plt.imshow(alpha.reshape(n,m), cmap = 'gray')\n",
    "plt.colorbar();"
   ]
  },
  {
   "cell_type": "markdown",
   "metadata": {},
   "source": [
    "**Note:** \n",
    "* A way to make this faster for large matrices would perhaps come from not calculationg all the zeros in the above alpha calculation. For instance, K1.T@y1 can perhaps be implemented via a convolution (with small kernel and using the fft implementation of the convolution). \n",
    "\n",
    "* The matrix that has to be inverted is of the dimension (#centres)x(#centres), so it can be kept smaller that the image dimension. \n",
    "\n",
    "* Without using a mathematical trick like the fft convolution and/or avoiding calculating so many essentially zero values, I doubt that there is an obvious more efficient implementation for the above."
   ]
  },
  {
   "cell_type": "markdown",
   "metadata": {},
   "source": [
    "# Gradient descent"
   ]
  },
  {
   "cell_type": "code",
   "execution_count": 7,
   "metadata": {},
   "outputs": [],
   "source": [
    "n = 28\n",
    "m = 28\n",
    "\n",
    "rx, ry = np.arange(0,n, 1), np.arange(0,m, 1)\n",
    "gx, gy = np.meshgrid(rx, ry) \n",
    "# Pair up elems from gx and gy to create array of pairs \n",
    "X_2D = np.c_[gx.ravel(), gy.ravel()]"
   ]
  },
  {
   "cell_type": "markdown",
   "metadata": {},
   "source": [
    "Here is a test beta"
   ]
  },
  {
   "cell_type": "code",
   "execution_count": 25,
   "metadata": {},
   "outputs": [
    {
     "data": {
      "text/plain": [
       "array([[ 1.6733269 , -2.34472992],\n",
       "       [ 0.09305318, -2.34472992],\n",
       "       [ 4.58552607, -2.34472992],\n",
       "       ...,\n",
       "       [-0.94966671, -0.15851695],\n",
       "       [ 2.2286906 , -0.15851695],\n",
       "       [-0.59009858, -0.15851695]])"
      ]
     },
     "execution_count": 25,
     "metadata": {},
     "output_type": "execute_result"
    }
   ],
   "source": [
    "rx, ry = np.random.normal(loc=0.0, scale=1.8, size=n), np.random.normal(loc=0.0, scale=1.8, size=m)\n",
    "bx, by = np.meshgrid(rx, ry) \n",
    "# Pair up elems from gx and gy to create array of pairs \n",
    "B_2D = np.c_[bx.ravel(), by.ravel()]\n",
    "\n",
    "B_2D"
   ]
  },
  {
   "cell_type": "markdown",
   "metadata": {},
   "source": [
    "Synthetic data to test gradient descent"
   ]
  },
  {
   "cell_type": "code",
   "execution_count": 23,
   "metadata": {},
   "outputs": [
    {
     "name": "stdout",
     "output_type": "stream",
     "text": [
      "0.03774220000013884\n"
     ]
    },
    {
     "data": {
      "image/png": "[encoded data removed]",
      "text/plain": [
       "<Figure size 432x288 with 3 Axes>"
      ]
     },
     "metadata": {
      "needs_background": "light"
     },
     "output_type": "display_data"
    }
   ],
   "source": [
    "a = np.zeros((n,m))\n",
    "a[6:15,6:22] = 1\n",
    "a[8:13,8:20] = 0\n",
    "a[22:24,22:24] = 4\n",
    "\n",
    "start = timer()\n",
    "kBp = kernel(X_2D,X_2D - B_2D,2)\n",
    "end = timer()   \n",
    "\n",
    "print(end - start)\n",
    "y = kBp@a.ravel()\n",
    "\n",
    "plt.subplot(1,3,1)\n",
    "plt.imshow(a, cmap = 'gray');\n",
    "plt.title(\"coeffis\")\n",
    "plt.subplot(1,3,2)\n",
    "plt.imshow(y.reshape(a.shape[0],a.shape[1]), cmap = 'gray');\n",
    "plt.title(\"y\");\n",
    "plt.subplot(1,3,3)\n",
    "plt.imshow((np.linalg.pinv(kBp)@y).reshape(a.shape[0],a.shape[1]), cmap = 'gray');\n",
    "plt.title(\"coeffi reconstr\");"
   ]
  },
  {
   "cell_type": "code",
   "execution_count": 16,
   "metadata": {},
   "outputs": [
    {
     "data": {
      "image/png": "[encoded data removed]",
      "text/plain": [
       "<Figure size 432x288 with 1 Axes>"
      ]
     },
     "metadata": {
      "needs_background": "light"
     },
     "output_type": "display_data"
    }
   ],
   "source": [
    "plt.imshow(kBp, cmap = 'jet');"
   ]
  },
  {
   "cell_type": "markdown",
   "metadata": {},
   "source": [
    "Gradient descent to find the minimizer of\n",
    "$$\n",
    "f(\\beta) =  \\frac{1}{2}\\| y - K_p^{\\beta} a\\|^2\n",
    "$$\n",
    "\n"
   ]
  },
  {
   "cell_type": "code",
   "execution_count": 114,
   "metadata": {},
   "outputs": [],
   "source": [
    "# THis is to slow to even do one iteration.\n",
    "def f(beta):\n",
    "        kBp = kernel(X_2D,X_2D - beta.reshape(28**2,2),2)\n",
    "        return 0.5 * np.linalg.norm(y - kBp@a.ravel())**2\n",
    "beta_init = 0*B_2D.ravel()\n",
    "scipy.optimize.fmin_cg(f,beta_init, maxiter = 1)"
   ]
  },
  {
   "cell_type": "markdown",
   "metadata": {},
   "source": [
    "So we have to calculate the gradient: \n",
    "$$\n",
    "\\nabla f (\\beta) = ..  y - K_p^{\\beta}a\n",
    "$$"
   ]
  }
 ],
 "metadata": {
  "kernelspec": {
   "display_name": "Python 3",
   "language": "python",
   "name": "python3"
  },
  "language_info": {
   "codemirror_mode": {
    "name": "ipython",
    "version": 3
   },
   "file_extension": ".py",
   "mimetype": "text/x-python",
   "name": "python",
   "nbconvert_exporter": "python",
   "pygments_lexer": "ipython3",
   "version": "3.8.5"
  }
 },
 "nbformat": 4,
 "nbformat_minor": 4
}
