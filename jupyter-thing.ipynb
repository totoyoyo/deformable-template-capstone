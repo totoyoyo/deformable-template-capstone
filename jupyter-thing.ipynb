{
 "cells": [
  {
   "cell_type": "code",
   "execution_count": 8,
   "metadata": {
    "collapsed": true,
    "pycharm": {
     "name": "#%%\n"
    }
   },
   "outputs": [],
   "source": [
    "from numpy import random\n",
    "import numpy as np\n",
    "from scipy import optimize\n",
    "template_sd = 1\n",
    "deformation_sd = 1\n",
    "# alphas = 1\n",
    "# betas = [1, 1]\n",
    "ag = 1\n",
    "n = 1\n",
    "kp = 2\n",
    "kg = 2\n",
    "\n",
    "def kernel_function(a,center,sd) -> int:\n",
    "        return np.exp(-(np.linalg.norm(a-center)**2)\n",
    "               /(2*sd **2))\n",
    "\n",
    "sigmaP = np.array([[0,0],\n",
    "                 [0,0]])\n",
    "sigmaPinv = np.array([[0,0],\n",
    "                 [0,0]])\n",
    "\n",
    "sigmaG = np.array([[0, 0],\n",
    "                   [0, 0]])\n",
    "sigmaGinv = np.array([[0, 0],\n",
    "                   [0, 0]])\n",
    "\n",
    "\n",
    "p_centers = np.array([0,1])\n",
    "g_centers = np.array([0,1])\n",
    "\n",
    "\n",
    "def cal_deformation(x,b):\n",
    "    sumer = 0\n",
    "    for index,center in enumerate(g_centers):\n",
    "        sumer += b[index] * kernel_function(x,center,deformation_sd)\n",
    "    return sumer\n",
    "\n",
    "for i in range(kp):\n",
    "    for j in range(kp):\n",
    "        sigmaPinv[i,j] = kernel_function(p_centers[i],\n",
    "                                      p_centers[j],\n",
    "                                      template_sd)\n",
    "\n",
    "for i in range(kg):\n",
    "    for j in range(kg):\n",
    "        sigmaGinv[i,j] = kernel_function(g_centers[i],\n",
    "                                      g_centers[j],\n",
    "                                      deformation_sd)\n",
    "\n",
    "\n",
    "sigmaP = np.linalg.inv(sigmaPinv)\n",
    "sigmaG = np.linalg.inv(sigmaGinv)\n",
    "\n",
    "\n",
    "def calculate_kBp(b):\n",
    "        tmp_kbp = np.empty((5, kp))\n",
    "        for i in range(5):\n",
    "            for j in range(kp):\n",
    "                the_def = cal_deformation(i,b)\n",
    "                tmp_kbp[i,j] = kernel_function(i - the_def,\n",
    "                                                p_centers[j],\n",
    "                                                template_sd)\n",
    "        return tmp_kbp"
   ]
  },
  {
   "cell_type": "code",
   "execution_count": 6,
   "outputs": [],
   "source": [
    "class MyImages:\n",
    "    def __init__(self,a):\n",
    "        self.location = a.ded\n",
    "        # then load the images\n",
    "        self.img = []\n",
    "\n",
    "    def get_images(self):\n",
    "        pass\n",
    "\n",
    "\n",
    "class TemplateKernel:\n",
    "    def __init__(self,center):\n",
    "        self.sd = template_sd\n",
    "        self.center = center\n",
    "\n",
    "    def kernel_function(self,a) -> int:\n",
    "        return np.exp(-(np.linalg.norm(a-self.center))**2\n",
    "               /(2* self.sd **2))\n",
    "\n",
    "class DeformationKernel:\n",
    "    def __init__(self,center):\n",
    "        self.sd = 1\n",
    "        self.center = center\n",
    "\n",
    "    def kernel_function(self,a) -> int:\n",
    "        return np.exp(-(np.linalg.norm(a-self.center))**2\n",
    "               /(2* self.sd **2))\n"
   ],
   "metadata": {
    "collapsed": false,
    "pycharm": {
     "name": "#%%\n"
    }
   }
  },
  {
   "cell_type": "markdown",
   "source": [
    "# Intro\n",
    "I have no idea what is happening"
   ],
   "metadata": {
    "collapsed": false
   }
  },
  {
   "cell_type": "code",
   "execution_count": 5,
   "outputs": [],
   "source": [
    "class Estimator:\n",
    "\n",
    "    def __init__(self):\n",
    "        self.alphas = np.array([0,0])\n",
    "        self.betas = np.array([0,0])\n",
    "        self.sd = 1\n",
    "        self.kBp = \\\n",
    "            calculate_kBp(self.betas)\n",
    "        self.Gamma = sigmaG\n",
    "        self.images = np.array([[0,1,1,1,0],\n",
    "                                [1,0,1,1,0]])\n",
    "        self.predictions = np.array([0,0,0,0,0])\n",
    "\n",
    "    def to_minimize(self,b):\n",
    "        1/2 * np.matmul(np.matmul(b.T,np.linalg.inv(self.Gamma)),\n",
    "                        b) + \\\n",
    "        1/(2*self.sd) * np.linalg.norm(self.images - self.predictions)**2\n",
    "\n",
    "\n",
    "    def best_betas(self):\n",
    "        out = optimize.minimize(self.to_minimize,self.betas).x\n",
    "        self.betas = out\n",
    "        return out\n",
    "\n",
    "    def bbtl(self):\n",
    "        betas = self.best_betas()\n",
    "        np.matmul(betas,betas.T)\n",
    "\n",
    "    def update_Gigma(self):\n",
    "        self.Gamma = 1/( n+ ag) * (n* self.bbtl() + ag * sigmaG)\n",
    "\n",
    "    def update_prediction(self):\n",
    "        self.predictions = np.matmul(self.kBp,self.alphas)\n",
    "\n",
    "    def update_alpha(self):\n",
    "        pass\n",
    "\n",
    "    def yTy(self):\n",
    "        np.linalg.norm(self.images)**2\n",
    "\n",
    "    def ky_kk(self):\n",
    "        b = self.best_betas()\n",
    "        kBp = calculate_kBp(b)\n",
    "        ky = np.matmul(kBp.T,self.images)\n",
    "        kk = np.matmul(kBp.T,kBp)\n",
    "        return ky,kk\n",
    "\n",
    "    # def new_alpha(self):\n",
    "\n"
   ],
   "metadata": {
    "collapsed": false,
    "pycharm": {
     "name": "#%%\n"
    }
   }
  },
  {
   "cell_type": "code",
   "execution_count": null,
   "outputs": [],
   "source": [
    "k = 10\n",
    "\n",
    "def tmp_1d(x) -> int:\n",
    "    if abs(x) <= 10:\n",
    "        return 1\n",
    "    else:\n",
    "        return 0\n",
    "\n",
    "def noisy_tmp_1d(x) -> int:\n",
    "    return tmp_1d(x + random.normal(0,1))\n",
    "\n",
    "\n",
    "#\n",
    "# def noisy_tmp(x) -> int:\n",
    "#     return add_noise(tmp_1d)(x)\n"
   ],
   "metadata": {
    "collapsed": false,
    "pycharm": {
     "name": "#%%\n"
    }
   }
  },
  {
   "cell_type": "code",
   "execution_count": null,
   "outputs": [],
   "source": [],
   "metadata": {
    "collapsed": false,
    "pycharm": {
     "name": "#%%"
    }
   }
  }
 ],
 "metadata": {
  "kernelspec": {
   "name": "pycharm-b555507e",
   "language": "python",
   "display_name": "PyCharm (capstone-try)"
  },
  "language_info": {
   "codemirror_mode": {
    "name": "ipython",
    "version": 2
   },
   "file_extension": ".py",
   "mimetype": "text/x-python",
   "name": "python",
   "nbconvert_exporter": "python",
   "pygments_lexer": "ipython2",
   "version": "2.7.6"
  }
 },
 "nbformat": 4,
 "nbformat_minor": 0
}