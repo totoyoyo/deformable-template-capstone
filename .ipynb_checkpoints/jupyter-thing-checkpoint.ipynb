{
 "cells": [
  {
   "cell_type": "code",
   "execution_count": 13,
   "metadata": {
    "collapsed": true,
    "pycharm": {
     "name": "#%%\n"
    }
   },
   "outputs": [],
   "source": [
    "from numpy import random\n",
    "import numpy as np\n",
    "template_sd = 1\n",
    "deformation_sd = 1\n",
    "alphas = 1\n",
    "betas = [1, 1]\n",
    "ag = 1\n",
    "n = 1\n",
    "sigmaG = 1\n",
    "\n",
    "\n",
    "class MyImages:\n",
    "    def __init__(self,a):\n",
    "        self.location = a.ded\n",
    "        # then load the images\n",
    "        self.img = []\n",
    "\n",
    "    def get_images(self):\n",
    "        pass\n",
    "\n",
    "\n",
    "class TemplateKernel:\n",
    "    def __init__(self,center):\n",
    "        self.sd = template_sd\n",
    "        self.center = center\n",
    "\n",
    "    def kernel_function(self,a) -> int:\n",
    "        return np.exp(-(np.linalg.norm(a-self.center))**2\n",
    "               /(2* self.sd **2))\n",
    "\n",
    "class DeformationKernel:\n",
    "    def __init__(self,center):\n",
    "        self.sd = 1\n",
    "        self.center = center\n",
    "\n",
    "    def kernel_function(self,a) -> int:\n",
    "        return np.exp(-(np.linalg.norm(a-self.center))**2\n",
    "               /(2* self.sd **2))"
   ]
  },
  {
   "cell_type": "markdown",
   "metadata": {},
   "source": [
    "# Intro\n",
    "I have no idea what is happening"
   ]
  },
  {
   "cell_type": "code",
   "execution_count": 14,
   "metadata": {
    "pycharm": {
     "name": "#%%\n"
    }
   },
   "outputs": [],
   "source": [
    "class Estimator:\n",
    "\n",
    "    def __init__(self):\n",
    "        self.alphas = np.array([1])\n",
    "        self.betas = np.array([1])\n",
    "        self.images = np.array([0,1,1,1,0])\n",
    "        self.predictions = np.array([0,0,0,0,0])\n",
    "\n",
    "    def best_betas(self):\n",
    "        pass\n",
    "\n",
    "    def bbtl(self):\n",
    "        betas = self.best_betas()\n",
    "        np.matmul(betas,betas.T)\n",
    "\n",
    "\n",
    "    def cal_alpha(self):\n",
    "        pass\n",
    "\n",
    "    def cal_sigma(self):\n",
    "        pass\n",
    "\n",
    "    def cal_gamma(self):\n",
    "        (1/ (n+ag)) * ( n * self.bbtl() + ag * sigmaG)\n",
    "\n",
    "    def yTy(self):\n",
    "        np.linalg.norm(self.images)**2\n",
    "\n",
    "    def ky(self):\n",
    "        np.dot(self.predictions.T,self.images)\n",
    "\n",
    "    def kk(self):\n",
    "        np.dot(self.predictions.T,self.predictions)\n",
    "\n",
    "    # def new_alpha(self):\n",
    "\n"
   ]
  },
  {
   "cell_type": "code",
   "execution_count": 15,
   "metadata": {
    "pycharm": {
     "name": "#%%\n"
    }
   },
   "outputs": [],
   "source": [
    "k = 10\n",
    "\n",
    "def tmp_1d(x) -> int:\n",
    "    if abs(x) <= 10:\n",
    "        return 1\n",
    "    else:\n",
    "        return 0\n",
    "\n",
    "def noisy_tmp_1d(x) -> int:\n",
    "    return tmp_1d(x + random.normal(0,1))\n",
    "\n",
    "\n",
    "#\n",
    "# def noisy_tmp(x) -> int:\n",
    "#     return add_noise(tmp_1d)(x)\n"
   ]
  },
  {
   "cell_type": "code",
   "execution_count": 16,
   "metadata": {
    "pycharm": {
     "name": "#%%\n"
    }
   },
   "outputs": [
    {
     "data": {
      "text/plain": [
       "array([[0., 1.],\n",
       "       [1., 0.]])"
      ]
     },
     "execution_count": 16,
     "metadata": {},
     "output_type": "execute_result"
    }
   ],
   "source": [
    "np.linalg.inv([[0,1],[1,0]])"
   ]
  }
 ],
 "metadata": {
  "kernelspec": {
   "display_name": "PyCharm (capstone-try)",
   "language": "python",
   "name": "pycharm-b555507e"
  },
  "language_info": {
   "codemirror_mode": {
    "name": "ipython",
    "version": 3
   },
   "file_extension": ".py",
   "mimetype": "text/x-python",
   "name": "python",
   "nbconvert_exporter": "python",
   "pygments_lexer": "ipython3",
   "version": "3.8.5"
  }
 },
 "nbformat": 4,
 "nbformat_minor": 1
}
